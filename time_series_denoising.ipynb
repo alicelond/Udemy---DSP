{
 "cells": [
  {
   "cell_type": "markdown",
   "metadata": {},
   "source": [
    "# Time series denoising\n",
    "\n",
    "This notebook is the Python version of the exercises of [Signal processing problems](https://www.udemy.com/course/signal-processing/). "
   ]
  },
  {
   "cell_type": "markdown",
   "metadata": {},
   "source": [
    "## Running mean time series\n",
    "\n",
    "A running mean time series is a filter that can be applied to smooth a given signal. For this case, a given point $y_{t}$ is equal to the average of its neighbour points. This can be expressed by:\n",
    "\n",
    "$y_{1} = \\dfrac{1}{2k+1} \\sum_{i=t-k}^{t+k}x_{i}$.\n",
    "\n",
    "This filter smoothes the sharp edges and the larger the value of k, the smoother the signal becomes. Unfortunately, this produces *edge effects* for the first and last signal points. \n",
    "\n",
    "It's generally appropriate when the noise is evenly (positively and negatively) distributed."
   ]
  },
  {
   "cell_type": "code",
   "execution_count": 9,
   "metadata": {},
   "outputs": [],
   "source": [
    "## Importing the libraries\n",
    "import numpy as np\n",
    "from scipy.interpolate import interp1d"
   ]
  },
  {
   "cell_type": "code",
   "execution_count": 12,
   "metadata": {},
   "outputs": [],
   "source": [
    "## Setting up variables\n",
    "sampling_rate = 1000\n",
    "time = np.arange(0, 3, 1/sampling_rate) # Step size is 1/sampling_rate (time interval between samples)\n",
    "n = len(time)\n",
    "p = 15  # Poles for random interpolation\n",
    "noiseamp = 5  # Noise level in standard deviations\n",
    "\n",
    "## Amplitude modulator and noise level\n",
    "\n",
    "# Creates an array of p random variables, between 0 and 1, scaling by 30\n",
    "# Represents random amplitude values (y-axis values)\n",
    "random_ampl_values = np.random.rand(p) * 30\n",
    "\n",
    "# Generates p equally spaced values from 0 to p-1\n",
    "# Represents the time/index points (x-axis values)\n",
    "interp_func = interp1d(np.linspace(0, p-1, p), random_ampl_values, kind='linear')\n",
    "\n",
    "# Generates n points to match teh samples of time vector\n",
    "# Uses linear interpolation to fill in these values\n",
    "ampl = interp_func(np.linspace(0, p-1, n))\n",
    "\n",
    "# Generates n samples from a std normal distribution and scales the noise\n",
    "noise = noiseamp * np.random.randn(n)\n",
    "\n",
    "# Our signal is the sum of the amplitude and the noise\n",
    "signal = ampl + noise\n",
    "\n",
    "# Initializing the filtered signal that has the same shape and data type of signal\n",
    "filtered_signal = np.zeros_like(signal)\n"
   ]
  }
 ],
 "metadata": {
  "kernelspec": {
   "display_name": "Python 3",
   "language": "python",
   "name": "python3"
  },
  "language_info": {
   "codemirror_mode": {
    "name": "ipython",
    "version": 3
   },
   "file_extension": ".py",
   "mimetype": "text/x-python",
   "name": "python",
   "nbconvert_exporter": "python",
   "pygments_lexer": "ipython3",
   "version": "3.12.3"
  }
 },
 "nbformat": 4,
 "nbformat_minor": 2
}
